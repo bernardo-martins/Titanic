{
  "cells": [
    {
      "cell_type": "code",
      "execution_count": 1,
      "metadata": {
        "id": "dmLq_dZ7T4kW"
      },
      "outputs": [],
      "source": [
        "import pandas\n",
        "import tensorflow as tf\n",
        "from tensorflow import keras\n",
        "import numpy as np\n",
        "import seaborn as sns\n",
        "from sklearn.decomposition import PCA\n",
        "import matplotlib.pyplot as plt\n",
        "from sklearn import svm\n",
        "import warnings\n",
        "warnings.filterwarnings('ignore')"
      ]
    },
    {
      "cell_type": "code",
      "execution_count": 2,
      "metadata": {
        "id": "IQIYWLHqOBvb"
      },
      "outputs": [],
      "source": [
        "dir = \"./\"\n",
        "#Index(['PassengerId', 'Survived', 'Pclass', 'Name', 'Sex', 'Age', 'SibSp','Parch', 'Ticket', 'Fare', 'Cabin', 'Embarked'], dtype='object')\n",
        "#columns to be droped: name\n",
        "\n",
        "def get_data():\n",
        "\n",
        "    train_data = pandas.read_csv(\"train.csv\")\n",
        "    test_data = pandas.read_csv(\"test.csv\")\n",
        "    other_data = pandas.read_csv(\"gender_submission.csv\")\n",
        "\n",
        "    return train_data, test_data, other_data\n",
        "\n",
        "def clean_columns(data = []):\n",
        "\n",
        "    #general\n",
        "    for column in data.columns:\n",
        "        check_nan = data[column].isnull().values.any()\n",
        "        if check_nan:\n",
        "            print(column, \"-\", check_nan)\n",
        "            #Age, Cabin, Embarked\n",
        "    data = data.dropna()\n",
        "\n",
        "    return data\n",
        "\n",
        "def drop_columns(data, cols = []):\n",
        "  for col in cols:\n",
        "    data.drop(col, inplace=True, axis=1)"
      ]
    },
    {
      "cell_type": "markdown",
      "metadata": {
        "id": "mr86k9tjyUuy"
      },
      "source": [
        "Data Analysis\n"
      ]
    },
    {
      "cell_type": "code",
      "execution_count": 6,
      "metadata": {
        "id": "esy_DCD20log"
      },
      "outputs": [],
      "source": [
        "train, test, test_res = get_data()\n",
        "test = test.merge(test_res)"
      ]
    },
    {
      "cell_type": "code",
      "execution_count": 9,
      "metadata": {
        "id": "F5gBPDZ80r6h"
      },
      "outputs": [],
      "source": [
        "train = clean_columns(train)\n",
        "test = clean_columns(test)"
      ]
    },
    {
      "cell_type": "code",
      "execution_count": 10,
      "metadata": {
        "colab": {
          "base_uri": "https://localhost:8080/",
          "height": 206
        },
        "id": "jW5_70dW0nkd",
        "outputId": "80c3b4b4-f5c6-4c48-bd3c-c2cd96f47d77"
      },
      "outputs": [
        {
          "output_type": "execute_result",
          "data": {
            "text/plain": [
              "    PassengerId  Survived  Pclass  \\\n",
              "1             2         1       1   \n",
              "3             4         1       1   \n",
              "6             7         0       1   \n",
              "10           11         1       3   \n",
              "11           12         1       1   \n",
              "\n",
              "                                                 Name     Sex   Age  SibSp  \\\n",
              "1   Cumings, Mrs. John Bradley (Florence Briggs Th...  female  38.0      1   \n",
              "3        Futrelle, Mrs. Jacques Heath (Lily May Peel)  female  35.0      1   \n",
              "6                             McCarthy, Mr. Timothy J    male  54.0      0   \n",
              "10                    Sandstrom, Miss. Marguerite Rut  female   4.0      1   \n",
              "11                           Bonnell, Miss. Elizabeth  female  58.0      0   \n",
              "\n",
              "    Parch    Ticket     Fare Cabin Embarked  \n",
              "1       0  PC 17599  71.2833   C85        C  \n",
              "3       0    113803  53.1000  C123        S  \n",
              "6       0     17463  51.8625   E46        S  \n",
              "10      1   PP 9549  16.7000    G6        S  \n",
              "11      0    113783  26.5500  C103        S  "
            ],
            "text/html": [
              "\n",
              "  <div id=\"df-f8fb242a-3bb6-4470-af7b-93abd81fcfc5\">\n",
              "    <div class=\"colab-df-container\">\n",
              "      <div>\n",
              "<style scoped>\n",
              "    .dataframe tbody tr th:only-of-type {\n",
              "        vertical-align: middle;\n",
              "    }\n",
              "\n",
              "    .dataframe tbody tr th {\n",
              "        vertical-align: top;\n",
              "    }\n",
              "\n",
              "    .dataframe thead th {\n",
              "        text-align: right;\n",
              "    }\n",
              "</style>\n",
              "<table border=\"1\" class=\"dataframe\">\n",
              "  <thead>\n",
              "    <tr style=\"text-align: right;\">\n",
              "      <th></th>\n",
              "      <th>PassengerId</th>\n",
              "      <th>Survived</th>\n",
              "      <th>Pclass</th>\n",
              "      <th>Name</th>\n",
              "      <th>Sex</th>\n",
              "      <th>Age</th>\n",
              "      <th>SibSp</th>\n",
              "      <th>Parch</th>\n",
              "      <th>Ticket</th>\n",
              "      <th>Fare</th>\n",
              "      <th>Cabin</th>\n",
              "      <th>Embarked</th>\n",
              "    </tr>\n",
              "  </thead>\n",
              "  <tbody>\n",
              "    <tr>\n",
              "      <th>1</th>\n",
              "      <td>2</td>\n",
              "      <td>1</td>\n",
              "      <td>1</td>\n",
              "      <td>Cumings, Mrs. John Bradley (Florence Briggs Th...</td>\n",
              "      <td>female</td>\n",
              "      <td>38.0</td>\n",
              "      <td>1</td>\n",
              "      <td>0</td>\n",
              "      <td>PC 17599</td>\n",
              "      <td>71.2833</td>\n",
              "      <td>C85</td>\n",
              "      <td>C</td>\n",
              "    </tr>\n",
              "    <tr>\n",
              "      <th>3</th>\n",
              "      <td>4</td>\n",
              "      <td>1</td>\n",
              "      <td>1</td>\n",
              "      <td>Futrelle, Mrs. Jacques Heath (Lily May Peel)</td>\n",
              "      <td>female</td>\n",
              "      <td>35.0</td>\n",
              "      <td>1</td>\n",
              "      <td>0</td>\n",
              "      <td>113803</td>\n",
              "      <td>53.1000</td>\n",
              "      <td>C123</td>\n",
              "      <td>S</td>\n",
              "    </tr>\n",
              "    <tr>\n",
              "      <th>6</th>\n",
              "      <td>7</td>\n",
              "      <td>0</td>\n",
              "      <td>1</td>\n",
              "      <td>McCarthy, Mr. Timothy J</td>\n",
              "      <td>male</td>\n",
              "      <td>54.0</td>\n",
              "      <td>0</td>\n",
              "      <td>0</td>\n",
              "      <td>17463</td>\n",
              "      <td>51.8625</td>\n",
              "      <td>E46</td>\n",
              "      <td>S</td>\n",
              "    </tr>\n",
              "    <tr>\n",
              "      <th>10</th>\n",
              "      <td>11</td>\n",
              "      <td>1</td>\n",
              "      <td>3</td>\n",
              "      <td>Sandstrom, Miss. Marguerite Rut</td>\n",
              "      <td>female</td>\n",
              "      <td>4.0</td>\n",
              "      <td>1</td>\n",
              "      <td>1</td>\n",
              "      <td>PP 9549</td>\n",
              "      <td>16.7000</td>\n",
              "      <td>G6</td>\n",
              "      <td>S</td>\n",
              "    </tr>\n",
              "    <tr>\n",
              "      <th>11</th>\n",
              "      <td>12</td>\n",
              "      <td>1</td>\n",
              "      <td>1</td>\n",
              "      <td>Bonnell, Miss. Elizabeth</td>\n",
              "      <td>female</td>\n",
              "      <td>58.0</td>\n",
              "      <td>0</td>\n",
              "      <td>0</td>\n",
              "      <td>113783</td>\n",
              "      <td>26.5500</td>\n",
              "      <td>C103</td>\n",
              "      <td>S</td>\n",
              "    </tr>\n",
              "  </tbody>\n",
              "</table>\n",
              "</div>\n",
              "      <button class=\"colab-df-convert\" onclick=\"convertToInteractive('df-f8fb242a-3bb6-4470-af7b-93abd81fcfc5')\"\n",
              "              title=\"Convert this dataframe to an interactive table.\"\n",
              "              style=\"display:none;\">\n",
              "        \n",
              "  <svg xmlns=\"http://www.w3.org/2000/svg\" height=\"24px\"viewBox=\"0 0 24 24\"\n",
              "       width=\"24px\">\n",
              "    <path d=\"M0 0h24v24H0V0z\" fill=\"none\"/>\n",
              "    <path d=\"M18.56 5.44l.94 2.06.94-2.06 2.06-.94-2.06-.94-.94-2.06-.94 2.06-2.06.94zm-11 1L8.5 8.5l.94-2.06 2.06-.94-2.06-.94L8.5 2.5l-.94 2.06-2.06.94zm10 10l.94 2.06.94-2.06 2.06-.94-2.06-.94-.94-2.06-.94 2.06-2.06.94z\"/><path d=\"M17.41 7.96l-1.37-1.37c-.4-.4-.92-.59-1.43-.59-.52 0-1.04.2-1.43.59L10.3 9.45l-7.72 7.72c-.78.78-.78 2.05 0 2.83L4 21.41c.39.39.9.59 1.41.59.51 0 1.02-.2 1.41-.59l7.78-7.78 2.81-2.81c.8-.78.8-2.07 0-2.86zM5.41 20L4 18.59l7.72-7.72 1.47 1.35L5.41 20z\"/>\n",
              "  </svg>\n",
              "      </button>\n",
              "      \n",
              "  <style>\n",
              "    .colab-df-container {\n",
              "      display:flex;\n",
              "      flex-wrap:wrap;\n",
              "      gap: 12px;\n",
              "    }\n",
              "\n",
              "    .colab-df-convert {\n",
              "      background-color: #E8F0FE;\n",
              "      border: none;\n",
              "      border-radius: 50%;\n",
              "      cursor: pointer;\n",
              "      display: none;\n",
              "      fill: #1967D2;\n",
              "      height: 32px;\n",
              "      padding: 0 0 0 0;\n",
              "      width: 32px;\n",
              "    }\n",
              "\n",
              "    .colab-df-convert:hover {\n",
              "      background-color: #E2EBFA;\n",
              "      box-shadow: 0px 1px 2px rgba(60, 64, 67, 0.3), 0px 1px 3px 1px rgba(60, 64, 67, 0.15);\n",
              "      fill: #174EA6;\n",
              "    }\n",
              "\n",
              "    [theme=dark] .colab-df-convert {\n",
              "      background-color: #3B4455;\n",
              "      fill: #D2E3FC;\n",
              "    }\n",
              "\n",
              "    [theme=dark] .colab-df-convert:hover {\n",
              "      background-color: #434B5C;\n",
              "      box-shadow: 0px 1px 3px 1px rgba(0, 0, 0, 0.15);\n",
              "      filter: drop-shadow(0px 1px 2px rgba(0, 0, 0, 0.3));\n",
              "      fill: #FFFFFF;\n",
              "    }\n",
              "  </style>\n",
              "\n",
              "      <script>\n",
              "        const buttonEl =\n",
              "          document.querySelector('#df-f8fb242a-3bb6-4470-af7b-93abd81fcfc5 button.colab-df-convert');\n",
              "        buttonEl.style.display =\n",
              "          google.colab.kernel.accessAllowed ? 'block' : 'none';\n",
              "\n",
              "        async function convertToInteractive(key) {\n",
              "          const element = document.querySelector('#df-f8fb242a-3bb6-4470-af7b-93abd81fcfc5');\n",
              "          const dataTable =\n",
              "            await google.colab.kernel.invokeFunction('convertToInteractive',\n",
              "                                                     [key], {});\n",
              "          if (!dataTable) return;\n",
              "\n",
              "          const docLinkHtml = 'Like what you see? Visit the ' +\n",
              "            '<a target=\"_blank\" href=https://colab.research.google.com/notebooks/data_table.ipynb>data table notebook</a>'\n",
              "            + ' to learn more about interactive tables.';\n",
              "          element.innerHTML = '';\n",
              "          dataTable['output_type'] = 'display_data';\n",
              "          await google.colab.output.renderOutput(dataTable, element);\n",
              "          const docLink = document.createElement('div');\n",
              "          docLink.innerHTML = docLinkHtml;\n",
              "          element.appendChild(docLink);\n",
              "        }\n",
              "      </script>\n",
              "    </div>\n",
              "  </div>\n",
              "  "
            ]
          },
          "metadata": {},
          "execution_count": 10
        }
      ],
      "source": [
        "train.head()"
      ]
    },
    {
      "cell_type": "code",
      "execution_count": 11,
      "metadata": {
        "colab": {
          "base_uri": "https://localhost:8080/",
          "height": 206
        },
        "id": "4LlKbmEQKzrE",
        "outputId": "7526ad6e-3e2a-4d4e-8233-3f5ef5af17f2"
      },
      "outputs": [
        {
          "output_type": "execute_result",
          "data": {
            "text/plain": [
              "    PassengerId  Pclass                                               Name  \\\n",
              "12          904       1      Snyder, Mrs. John Pillsbury (Nelle Stevenson)   \n",
              "14          906       1  Chaffee, Mrs. Herbert Fuller (Carrie Constance...   \n",
              "24          916       1    Ryerson, Mrs. Arthur Larned (Emily Maria Borie)   \n",
              "26          918       1                       Ostby, Miss. Helene Ragnhild   \n",
              "28          920       1                            Brady, Mr. John Bertram   \n",
              "\n",
              "       Sex   Age  SibSp  Parch       Ticket      Fare            Cabin  \\\n",
              "12  female  23.0      1      0        21228   82.2667              B45   \n",
              "14  female  47.0      1      0  W.E.P. 5734   61.1750              E31   \n",
              "24  female  48.0      1      3     PC 17608  262.3750  B57 B59 B63 B66   \n",
              "26  female  22.0      0      1       113509   61.9792              B36   \n",
              "28    male  41.0      0      0       113054   30.5000              A21   \n",
              "\n",
              "   Embarked  Survived  \n",
              "12        S         1  \n",
              "14        S         1  \n",
              "24        C         1  \n",
              "26        C         1  \n",
              "28        S         0  "
            ],
            "text/html": [
              "\n",
              "  <div id=\"df-35b7c763-8913-4b1f-8216-b6a5e7ff4b01\">\n",
              "    <div class=\"colab-df-container\">\n",
              "      <div>\n",
              "<style scoped>\n",
              "    .dataframe tbody tr th:only-of-type {\n",
              "        vertical-align: middle;\n",
              "    }\n",
              "\n",
              "    .dataframe tbody tr th {\n",
              "        vertical-align: top;\n",
              "    }\n",
              "\n",
              "    .dataframe thead th {\n",
              "        text-align: right;\n",
              "    }\n",
              "</style>\n",
              "<table border=\"1\" class=\"dataframe\">\n",
              "  <thead>\n",
              "    <tr style=\"text-align: right;\">\n",
              "      <th></th>\n",
              "      <th>PassengerId</th>\n",
              "      <th>Pclass</th>\n",
              "      <th>Name</th>\n",
              "      <th>Sex</th>\n",
              "      <th>Age</th>\n",
              "      <th>SibSp</th>\n",
              "      <th>Parch</th>\n",
              "      <th>Ticket</th>\n",
              "      <th>Fare</th>\n",
              "      <th>Cabin</th>\n",
              "      <th>Embarked</th>\n",
              "      <th>Survived</th>\n",
              "    </tr>\n",
              "  </thead>\n",
              "  <tbody>\n",
              "    <tr>\n",
              "      <th>12</th>\n",
              "      <td>904</td>\n",
              "      <td>1</td>\n",
              "      <td>Snyder, Mrs. John Pillsbury (Nelle Stevenson)</td>\n",
              "      <td>female</td>\n",
              "      <td>23.0</td>\n",
              "      <td>1</td>\n",
              "      <td>0</td>\n",
              "      <td>21228</td>\n",
              "      <td>82.2667</td>\n",
              "      <td>B45</td>\n",
              "      <td>S</td>\n",
              "      <td>1</td>\n",
              "    </tr>\n",
              "    <tr>\n",
              "      <th>14</th>\n",
              "      <td>906</td>\n",
              "      <td>1</td>\n",
              "      <td>Chaffee, Mrs. Herbert Fuller (Carrie Constance...</td>\n",
              "      <td>female</td>\n",
              "      <td>47.0</td>\n",
              "      <td>1</td>\n",
              "      <td>0</td>\n",
              "      <td>W.E.P. 5734</td>\n",
              "      <td>61.1750</td>\n",
              "      <td>E31</td>\n",
              "      <td>S</td>\n",
              "      <td>1</td>\n",
              "    </tr>\n",
              "    <tr>\n",
              "      <th>24</th>\n",
              "      <td>916</td>\n",
              "      <td>1</td>\n",
              "      <td>Ryerson, Mrs. Arthur Larned (Emily Maria Borie)</td>\n",
              "      <td>female</td>\n",
              "      <td>48.0</td>\n",
              "      <td>1</td>\n",
              "      <td>3</td>\n",
              "      <td>PC 17608</td>\n",
              "      <td>262.3750</td>\n",
              "      <td>B57 B59 B63 B66</td>\n",
              "      <td>C</td>\n",
              "      <td>1</td>\n",
              "    </tr>\n",
              "    <tr>\n",
              "      <th>26</th>\n",
              "      <td>918</td>\n",
              "      <td>1</td>\n",
              "      <td>Ostby, Miss. Helene Ragnhild</td>\n",
              "      <td>female</td>\n",
              "      <td>22.0</td>\n",
              "      <td>0</td>\n",
              "      <td>1</td>\n",
              "      <td>113509</td>\n",
              "      <td>61.9792</td>\n",
              "      <td>B36</td>\n",
              "      <td>C</td>\n",
              "      <td>1</td>\n",
              "    </tr>\n",
              "    <tr>\n",
              "      <th>28</th>\n",
              "      <td>920</td>\n",
              "      <td>1</td>\n",
              "      <td>Brady, Mr. John Bertram</td>\n",
              "      <td>male</td>\n",
              "      <td>41.0</td>\n",
              "      <td>0</td>\n",
              "      <td>0</td>\n",
              "      <td>113054</td>\n",
              "      <td>30.5000</td>\n",
              "      <td>A21</td>\n",
              "      <td>S</td>\n",
              "      <td>0</td>\n",
              "    </tr>\n",
              "  </tbody>\n",
              "</table>\n",
              "</div>\n",
              "      <button class=\"colab-df-convert\" onclick=\"convertToInteractive('df-35b7c763-8913-4b1f-8216-b6a5e7ff4b01')\"\n",
              "              title=\"Convert this dataframe to an interactive table.\"\n",
              "              style=\"display:none;\">\n",
              "        \n",
              "  <svg xmlns=\"http://www.w3.org/2000/svg\" height=\"24px\"viewBox=\"0 0 24 24\"\n",
              "       width=\"24px\">\n",
              "    <path d=\"M0 0h24v24H0V0z\" fill=\"none\"/>\n",
              "    <path d=\"M18.56 5.44l.94 2.06.94-2.06 2.06-.94-2.06-.94-.94-2.06-.94 2.06-2.06.94zm-11 1L8.5 8.5l.94-2.06 2.06-.94-2.06-.94L8.5 2.5l-.94 2.06-2.06.94zm10 10l.94 2.06.94-2.06 2.06-.94-2.06-.94-.94-2.06-.94 2.06-2.06.94z\"/><path d=\"M17.41 7.96l-1.37-1.37c-.4-.4-.92-.59-1.43-.59-.52 0-1.04.2-1.43.59L10.3 9.45l-7.72 7.72c-.78.78-.78 2.05 0 2.83L4 21.41c.39.39.9.59 1.41.59.51 0 1.02-.2 1.41-.59l7.78-7.78 2.81-2.81c.8-.78.8-2.07 0-2.86zM5.41 20L4 18.59l7.72-7.72 1.47 1.35L5.41 20z\"/>\n",
              "  </svg>\n",
              "      </button>\n",
              "      \n",
              "  <style>\n",
              "    .colab-df-container {\n",
              "      display:flex;\n",
              "      flex-wrap:wrap;\n",
              "      gap: 12px;\n",
              "    }\n",
              "\n",
              "    .colab-df-convert {\n",
              "      background-color: #E8F0FE;\n",
              "      border: none;\n",
              "      border-radius: 50%;\n",
              "      cursor: pointer;\n",
              "      display: none;\n",
              "      fill: #1967D2;\n",
              "      height: 32px;\n",
              "      padding: 0 0 0 0;\n",
              "      width: 32px;\n",
              "    }\n",
              "\n",
              "    .colab-df-convert:hover {\n",
              "      background-color: #E2EBFA;\n",
              "      box-shadow: 0px 1px 2px rgba(60, 64, 67, 0.3), 0px 1px 3px 1px rgba(60, 64, 67, 0.15);\n",
              "      fill: #174EA6;\n",
              "    }\n",
              "\n",
              "    [theme=dark] .colab-df-convert {\n",
              "      background-color: #3B4455;\n",
              "      fill: #D2E3FC;\n",
              "    }\n",
              "\n",
              "    [theme=dark] .colab-df-convert:hover {\n",
              "      background-color: #434B5C;\n",
              "      box-shadow: 0px 1px 3px 1px rgba(0, 0, 0, 0.15);\n",
              "      filter: drop-shadow(0px 1px 2px rgba(0, 0, 0, 0.3));\n",
              "      fill: #FFFFFF;\n",
              "    }\n",
              "  </style>\n",
              "\n",
              "      <script>\n",
              "        const buttonEl =\n",
              "          document.querySelector('#df-35b7c763-8913-4b1f-8216-b6a5e7ff4b01 button.colab-df-convert');\n",
              "        buttonEl.style.display =\n",
              "          google.colab.kernel.accessAllowed ? 'block' : 'none';\n",
              "\n",
              "        async function convertToInteractive(key) {\n",
              "          const element = document.querySelector('#df-35b7c763-8913-4b1f-8216-b6a5e7ff4b01');\n",
              "          const dataTable =\n",
              "            await google.colab.kernel.invokeFunction('convertToInteractive',\n",
              "                                                     [key], {});\n",
              "          if (!dataTable) return;\n",
              "\n",
              "          const docLinkHtml = 'Like what you see? Visit the ' +\n",
              "            '<a target=\"_blank\" href=https://colab.research.google.com/notebooks/data_table.ipynb>data table notebook</a>'\n",
              "            + ' to learn more about interactive tables.';\n",
              "          element.innerHTML = '';\n",
              "          dataTable['output_type'] = 'display_data';\n",
              "          await google.colab.output.renderOutput(dataTable, element);\n",
              "          const docLink = document.createElement('div');\n",
              "          docLink.innerHTML = docLinkHtml;\n",
              "          element.appendChild(docLink);\n",
              "        }\n",
              "      </script>\n",
              "    </div>\n",
              "  </div>\n",
              "  "
            ]
          },
          "metadata": {},
          "execution_count": 11
        }
      ],
      "source": [
        "test.head()"
      ]
    },
    {
      "cell_type": "code",
      "execution_count": 12,
      "metadata": {
        "colab": {
          "base_uri": "https://localhost:8080/",
          "height": 387
        },
        "id": "5k4--iGP1SST",
        "outputId": "7802a334-969c-4597-c8dc-5b616e3da270"
      },
      "outputs": [
        {
          "output_type": "execute_result",
          "data": {
            "text/plain": [
              "<seaborn.axisgrid.FacetGrid at 0x7f6217469310>"
            ]
          },
          "metadata": {},
          "execution_count": 12
        },
        {
          "output_type": "display_data",
          "data": {
            "text/plain": [
              "<Figure size 360x360 with 1 Axes>"
            ],
            "image/png": "[encoded data removed]"
          },
          "metadata": {
            "needs_background": "light"
          }
        }
      ],
      "source": [
        "# Distribution of people per sex\n",
        "sns.displot(train, x=\"Sex\", shrink= 0.7, discrete= True)"
      ]
    },
    {
      "cell_type": "code",
      "execution_count": 13,
      "metadata": {
        "colab": {
          "base_uri": "https://localhost:8080/",
          "height": 721
        },
        "id": "_ZVEnvAfAPPR",
        "outputId": "12990d52-363b-4b8e-da5f-f81f08dabb50"
      },
      "outputs": [
        {
          "output_type": "display_data",
          "data": {
            "text/plain": [
              "<Figure size 360x360 with 1 Axes>"
            ],
            "image/png": "[encoded data removed]"
          },
          "metadata": {
            "needs_background": "light"
          }
        },
        {
          "output_type": "display_data",
          "data": {
            "text/plain": [
              "<Figure size 360x360 with 1 Axes>"
            ],
            "image/png": "[encoded data removed]"
          },
          "metadata": {
            "needs_background": "light"
          }
        }
      ],
      "source": [
        "sns.catplot(y=\"Age\", data = train)\n",
        "sns.catplot(x=\"Embarked\", y = \"Age\", kind=\"box\", data=train);"
      ]
    },
    {
      "cell_type": "code",
      "execution_count": 14,
      "metadata": {
        "colab": {
          "base_uri": "https://localhost:8080/",
          "height": 387
        },
        "id": "O9T_-tjA4mG6",
        "outputId": "23daaebd-be81-4555-b29f-b311df33b3f3"
      },
      "outputs": [
        {
          "output_type": "execute_result",
          "data": {
            "text/plain": [
              "<seaborn.axisgrid.FacetGrid at 0x7f61aef41c40>"
            ]
          },
          "metadata": {},
          "execution_count": 14
        },
        {
          "output_type": "display_data",
          "data": {
            "text/plain": [
              "<Figure size 411.875x360 with 1 Axes>"
            ],
            "image/png": "[encoded data removed]"
          },
          "metadata": {
            "needs_background": "light"
          }
        }
      ],
      "source": [
        "# Distribution of people per age that survived with KDE distribution\n",
        "sns.displot(train, x=\"Age\", hue = \"Survived\", kde = True, fill = False)"
      ]
    },
    {
      "cell_type": "code",
      "execution_count": 15,
      "metadata": {
        "colab": {
          "base_uri": "https://localhost:8080/",
          "height": 387
        },
        "id": "kQEMDeSL6vsH",
        "outputId": "06b3d9e5-92f6-4158-8ec6-d65fa245f59c"
      },
      "outputs": [
        {
          "output_type": "execute_result",
          "data": {
            "text/plain": [
              "<seaborn.axisgrid.FacetGrid at 0x7f6218727940>"
            ]
          },
          "metadata": {},
          "execution_count": 15
        },
        {
          "output_type": "display_data",
          "data": {
            "text/plain": [
              "<Figure size 771.875x360 with 2 Axes>"
            ],
            "image/png": "[encoded data removed]"
          },
          "metadata": {
            "needs_background": "light"
          }
        }
      ],
      "source": [
        "#Distribution of people by sex and if they survived or not\n",
        "sns.displot(train, x=\"Age\", col=\"Sex\", hue=\"Survived\", kde = True, fill = False)"
      ]
    },
    {
      "cell_type": "code",
      "execution_count": 16,
      "metadata": {
        "colab": {
          "base_uri": "https://localhost:8080/",
          "height": 387
        },
        "id": "DDm1akrKyV_F",
        "outputId": "e3624e53-2150-486d-90d8-c7f9d65c9eec"
      },
      "outputs": [
        {
          "output_type": "execute_result",
          "data": {
            "text/plain": [
              "<seaborn.axisgrid.FacetGrid at 0x7f61acd662e0>"
            ]
          },
          "metadata": {},
          "execution_count": 16
        },
        {
          "output_type": "display_data",
          "data": {
            "text/plain": [
              "<Figure size 411.875x360 with 1 Axes>"
            ],
            "image/png": "[encoded data removed]"
          },
          "metadata": {
            "needs_background": "light"
          }
        }
      ],
      "source": [
        "#Distribution of people per age and sex that survived with KDE distribution\n",
        "sns.displot(data=train, x=\"Embarked\", hue=\"Survived\", fill = False)"
      ]
    },
    {
      "cell_type": "code",
      "execution_count": 17,
      "metadata": {
        "colab": {
          "base_uri": "https://localhost:8080/",
          "height": 387
        },
        "id": "cACrUKkJ-NNV",
        "outputId": "4006171b-5b50-47a4-b620-291905937fc7"
      },
      "outputs": [
        {
          "output_type": "execute_result",
          "data": {
            "text/plain": [
              "<seaborn.axisgrid.FacetGrid at 0x7f61acdc8070>"
            ]
          },
          "metadata": {},
          "execution_count": 17
        },
        {
          "output_type": "display_data",
          "data": {
            "text/plain": [
              "<Figure size 771.875x360 with 2 Axes>"
            ],
            "image/png": "[encoded data removed]"
          },
          "metadata": {
            "needs_background": "light"
          }
        }
      ],
      "source": [
        "# Distribution of people per age that survived with KDE distribution\n",
        "sns.displot(train, x=\"Fare\", col = \"Sex\", hue = \"Survived\", kde = True, fill = False)"
      ]
    },
    {
      "cell_type": "markdown",
      "metadata": {
        "id": "jsyMKgNz6Rws"
      },
      "source": [
        "Convert data"
      ]
    },
    {
      "cell_type": "code",
      "execution_count": 18,
      "metadata": {
        "id": "qnAIAXq78zkc"
      },
      "outputs": [],
      "source": [
        "def convert_sex_to_binary(data):\n",
        "  genders = {\"male\": 1, \"female\": 2}\n",
        "  data['Sex'] = data['Sex'].map(genders)\n",
        "  return data\n",
        "\n",
        "def convert_embarked_to_binary(data):\n",
        "  embarks = {\"C\":1, \"S\":2, \"Q\":3}\n",
        "  data['Embarked'] = data['Embarked'].map(embarks)\n",
        "  return data\n",
        "\n",
        "def term_frequency_count(train, col):\n",
        "  \n",
        "  total = train.shape[1]\n",
        "  new_data = []\n",
        "  term_freq = train[col].value_counts()\n",
        "\n",
        "  for i,row in train.iterrows():\n",
        "    val = row[col]\n",
        "    new_data.append(term_freq[row[col]]/total)\n",
        "    train[col] = train[col].replace([val],float(term_freq[row[col]]/total))\n",
        "\n",
        "  return train"
      ]
    },
    {
      "cell_type": "code",
      "execution_count": 19,
      "metadata": {
        "colab": {
          "base_uri": "https://localhost:8080/"
        },
        "id": "oZuWpuZQ6TSS",
        "outputId": "b1d7b946-02c9-448a-eee0-102543444ac8"
      },
      "outputs": [
        {
          "output_type": "stream",
          "name": "stdout",
          "text": [
            "    Survived  Pclass  Sex   Age  SibSp  Parch    Ticket     Fare     Cabin  \\\n",
            "1          1       1    2  38.0      1      0  0.083333  71.2833  0.083333   \n",
            "3          1       1    2  35.0      1      0  0.166667  53.1000  0.166667   \n",
            "6          0       1    1  54.0      0      0  0.083333  51.8625  0.083333   \n",
            "10         1       3    2   4.0      1      1  0.166667  16.7000  0.333333   \n",
            "11         1       1    2  58.0      0      0  0.083333  26.5500  0.083333   \n",
            "\n",
            "    Embarked  \n",
            "1          1  \n",
            "3          2  \n",
            "6          2  \n",
            "10         2  \n",
            "11         2  \n"
          ]
        }
      ],
      "source": [
        "data = convert_sex_to_binary(convert_embarked_to_binary(train))\n",
        "\n",
        "data = term_frequency_count(data, 'Ticket')\n",
        "\n",
        "data = term_frequency_count(data, 'Cabin')\n",
        "\n",
        "data = data.drop(columns=['Name', 'PassengerId'])\n",
        "\n",
        "print(data.head())"
      ]
    },
    {
      "cell_type": "markdown",
      "metadata": {
        "id": "aWYXAmIt9w6F"
      },
      "source": [
        "Data shape"
      ]
    },
    {
      "cell_type": "code",
      "execution_count": 20,
      "metadata": {
        "colab": {
          "base_uri": "https://localhost:8080/"
        },
        "id": "hsIA7iEc9yH0",
        "outputId": "4b39c2a2-b2b9-4115-9c5b-80699d787e37"
      },
      "outputs": [
        {
          "output_type": "execute_result",
          "data": {
            "text/plain": [
              "(183, 10)"
            ]
          },
          "metadata": {},
          "execution_count": 20
        }
      ],
      "source": [
        "data.shape"
      ]
    },
    {
      "cell_type": "markdown",
      "metadata": {
        "id": "1oHkHClo334a"
      },
      "source": [
        "Model building"
      ]
    },
    {
      "cell_type": "code",
      "execution_count": 21,
      "metadata": {
        "id": "Ak_OY-KAUcGj"
      },
      "outputs": [],
      "source": [
        "def build_model(data):\n",
        "\n",
        "    model = keras.models.Sequential(\n",
        "        [\n",
        "        tf.keras.layers.Dense(256, input_shape=(data.shape[1],), activation='sigmoid'),\n",
        "        keras.layers.Dense(64, activation='sigmoid'),\n",
        "        keras.layers.Dropout(0.2),\n",
        "        keras.layers.Dense(32),\n",
        "        keras.layers.Dense(16),\n",
        "        keras.layers.Dense(1, activation='sigmoid')\n",
        "        ]\n",
        "    )\n",
        "\n",
        "    model.compile(optimizer='adam',\n",
        "                  loss=tf.keras.losses.BinaryCrossentropy(),\n",
        "                  metrics=['accuracy'])\n",
        "\n",
        "    return model"
      ]
    },
    {
      "cell_type": "code",
      "execution_count": 22,
      "metadata": {
        "id": "ajKp_F0V-H0p"
      },
      "outputs": [],
      "source": [
        "def train(data):\n",
        "\n",
        "  print(data.head())\n",
        "\n",
        "  x_train, y_train = data[['Pclass','Sex', 'Age', 'SibSp', 'Ticket', 'Fare', 'Cabin', 'Embarked']], data[['Survived']]\n",
        "\n",
        "  model = build_model(x_train)\n",
        "  \n",
        "  print(x_train.shape)\n",
        "\n",
        "  history = model.fit(x_train, y_train, validation_split = 0.2, epochs = 50, shuffle = True)\n",
        "\n",
        "  return history, model\n",
        "\n",
        "\n",
        "def final_test(model, data):\n",
        "\n",
        "  x_test, y_test = data[['Pclass','Sex', 'Age', 'SibSp', 'Ticket', 'Fare', 'Cabin', 'Embarked']], data[['Survived']]\n",
        "\n",
        "  model.predict(x_test, verbose = 1)\n",
        "\n",
        "  loss_and_metrics = model.evaluate(x_test, y_test)\n",
        "  print('Loss = ',loss_and_metrics[0])\n",
        "  print('Accuracy = ',loss_and_metrics[1])\n",
        "\n",
        "  return "
      ]
    },
    {
      "cell_type": "code",
      "execution_count": 23,
      "metadata": {
        "colab": {
          "base_uri": "https://localhost:8080/"
        },
        "id": "f9ZlePM9-nIt",
        "outputId": "7e7110fa-3501-4bd7-ee62-9b03db7ee111"
      },
      "outputs": [
        {
          "output_type": "stream",
          "name": "stdout",
          "text": [
            "    Survived  Pclass  Sex   Age  SibSp  Parch    Ticket     Fare     Cabin  \\\n",
            "1          1       1    2  38.0      1      0  0.083333  71.2833  0.083333   \n",
            "3          1       1    2  35.0      1      0  0.166667  53.1000  0.166667   \n",
            "6          0       1    1  54.0      0      0  0.083333  51.8625  0.083333   \n",
            "10         1       3    2   4.0      1      1  0.166667  16.7000  0.333333   \n",
            "11         1       1    2  58.0      0      0  0.083333  26.5500  0.083333   \n",
            "\n",
            "    Embarked  \n",
            "1          1  \n",
            "3          2  \n",
            "6          2  \n",
            "10         2  \n",
            "11         2  \n",
            "(183, 8)\n",
            "Epoch 1/50\n",
            "5/5 [==============================] - 1s 52ms/step - loss: 0.6540 - accuracy: 0.6507 - val_loss: 0.5398 - val_accuracy: 0.7297\n",
            "Epoch 2/50\n",
            "5/5 [==============================] - 0s 8ms/step - loss: 0.6622 - accuracy: 0.6370 - val_loss: 0.5470 - val_accuracy: 0.6757\n",
            "Epoch 3/50\n",
            "5/5 [==============================] - 0s 9ms/step - loss: 0.6445 - accuracy: 0.6438 - val_loss: 0.5377 - val_accuracy: 0.7297\n",
            "Epoch 4/50\n",
            "5/5 [==============================] - 0s 8ms/step - loss: 0.6419 - accuracy: 0.6370 - val_loss: 0.5488 - val_accuracy: 0.6757\n",
            "Epoch 5/50\n",
            "5/5 [==============================] - 0s 8ms/step - loss: 0.6670 - accuracy: 0.5959 - val_loss: 0.5801 - val_accuracy: 0.6757\n",
            "Epoch 6/50\n",
            "5/5 [==============================] - 0s 10ms/step - loss: 0.6476 - accuracy: 0.6438 - val_loss: 0.5371 - val_accuracy: 0.7027\n",
            "Epoch 7/50\n",
            "5/5 [==============================] - 0s 8ms/step - loss: 0.5960 - accuracy: 0.6438 - val_loss: 0.5384 - val_accuracy: 0.7027\n",
            "Epoch 8/50\n",
            "5/5 [==============================] - 0s 10ms/step - loss: 0.6162 - accuracy: 0.6712 - val_loss: 0.5756 - val_accuracy: 0.6757\n",
            "Epoch 9/50\n",
            "5/5 [==============================] - 0s 8ms/step - loss: 0.5971 - accuracy: 0.7055 - val_loss: 0.5584 - val_accuracy: 0.7568\n",
            "Epoch 10/50\n",
            "5/5 [==============================] - 0s 8ms/step - loss: 0.6452 - accuracy: 0.6027 - val_loss: 0.5504 - val_accuracy: 0.6757\n",
            "Epoch 11/50\n",
            "5/5 [==============================] - 0s 8ms/step - loss: 0.6123 - accuracy: 0.6712 - val_loss: 0.5563 - val_accuracy: 0.7297\n",
            "Epoch 12/50\n",
            "5/5 [==============================] - 0s 14ms/step - loss: 0.5900 - accuracy: 0.6918 - val_loss: 0.5506 - val_accuracy: 0.6757\n",
            "Epoch 13/50\n",
            "5/5 [==============================] - 0s 8ms/step - loss: 0.6076 - accuracy: 0.6575 - val_loss: 0.5604 - val_accuracy: 0.7297\n",
            "Epoch 14/50\n",
            "5/5 [==============================] - 0s 9ms/step - loss: 0.5908 - accuracy: 0.7055 - val_loss: 0.5560 - val_accuracy: 0.7297\n",
            "Epoch 15/50\n",
            "5/5 [==============================] - 0s 9ms/step - loss: 0.6017 - accuracy: 0.6849 - val_loss: 0.5498 - val_accuracy: 0.6757\n",
            "Epoch 16/50\n",
            "5/5 [==============================] - 0s 8ms/step - loss: 0.6133 - accuracy: 0.6986 - val_loss: 0.5576 - val_accuracy: 0.7027\n",
            "Epoch 17/50\n",
            "5/5 [==============================] - 0s 9ms/step - loss: 0.5982 - accuracy: 0.6781 - val_loss: 0.5709 - val_accuracy: 0.7568\n",
            "Epoch 18/50\n",
            "5/5 [==============================] - 0s 8ms/step - loss: 0.6040 - accuracy: 0.6781 - val_loss: 0.5552 - val_accuracy: 0.7297\n",
            "Epoch 19/50\n",
            "5/5 [==============================] - 0s 8ms/step - loss: 0.5952 - accuracy: 0.6849 - val_loss: 0.5508 - val_accuracy: 0.7027\n",
            "Epoch 20/50\n",
            "5/5 [==============================] - 0s 9ms/step - loss: 0.6002 - accuracy: 0.7055 - val_loss: 0.5594 - val_accuracy: 0.7568\n",
            "Epoch 21/50\n",
            "5/5 [==============================] - 0s 8ms/step - loss: 0.5995 - accuracy: 0.7192 - val_loss: 0.5529 - val_accuracy: 0.7297\n",
            "Epoch 22/50\n",
            "5/5 [==============================] - 0s 8ms/step - loss: 0.5948 - accuracy: 0.7329 - val_loss: 0.5561 - val_accuracy: 0.7568\n",
            "Epoch 23/50\n",
            "5/5 [==============================] - 0s 9ms/step - loss: 0.5910 - accuracy: 0.7123 - val_loss: 0.5465 - val_accuracy: 0.7027\n",
            "Epoch 24/50\n",
            "5/5 [==============================] - 0s 8ms/step - loss: 0.5830 - accuracy: 0.7397 - val_loss: 0.5483 - val_accuracy: 0.7297\n",
            "Epoch 25/50\n",
            "5/5 [==============================] - 0s 10ms/step - loss: 0.5743 - accuracy: 0.7123 - val_loss: 0.5681 - val_accuracy: 0.7568\n",
            "Epoch 26/50\n",
            "5/5 [==============================] - 0s 8ms/step - loss: 0.5894 - accuracy: 0.7055 - val_loss: 0.5717 - val_accuracy: 0.7568\n",
            "Epoch 27/50\n",
            "5/5 [==============================] - 0s 8ms/step - loss: 0.5649 - accuracy: 0.7260 - val_loss: 0.5577 - val_accuracy: 0.7297\n",
            "Epoch 28/50\n",
            "5/5 [==============================] - 0s 10ms/step - loss: 0.5846 - accuracy: 0.7192 - val_loss: 0.5553 - val_accuracy: 0.7027\n",
            "Epoch 29/50\n",
            "5/5 [==============================] - 0s 8ms/step - loss: 0.5900 - accuracy: 0.7123 - val_loss: 0.5599 - val_accuracy: 0.7568\n",
            "Epoch 30/50\n",
            "5/5 [==============================] - 0s 8ms/step - loss: 0.5959 - accuracy: 0.6849 - val_loss: 0.5477 - val_accuracy: 0.7297\n",
            "Epoch 31/50\n",
            "5/5 [==============================] - 0s 8ms/step - loss: 0.6013 - accuracy: 0.7123 - val_loss: 0.5656 - val_accuracy: 0.7568\n",
            "Epoch 32/50\n",
            "5/5 [==============================] - 0s 10ms/step - loss: 0.5785 - accuracy: 0.7123 - val_loss: 0.5545 - val_accuracy: 0.7568\n",
            "Epoch 33/50\n",
            "5/5 [==============================] - 0s 8ms/step - loss: 0.5865 - accuracy: 0.7055 - val_loss: 0.5629 - val_accuracy: 0.7568\n",
            "Epoch 34/50\n",
            "5/5 [==============================] - 0s 8ms/step - loss: 0.5903 - accuracy: 0.6712 - val_loss: 0.5515 - val_accuracy: 0.7568\n",
            "Epoch 35/50\n",
            "5/5 [==============================] - 0s 9ms/step - loss: 0.5756 - accuracy: 0.7260 - val_loss: 0.5496 - val_accuracy: 0.7297\n",
            "Epoch 36/50\n",
            "5/5 [==============================] - 0s 8ms/step - loss: 0.5815 - accuracy: 0.6986 - val_loss: 0.5531 - val_accuracy: 0.7297\n",
            "Epoch 37/50\n",
            "5/5 [==============================] - 0s 7ms/step - loss: 0.5661 - accuracy: 0.7260 - val_loss: 0.5606 - val_accuracy: 0.7568\n",
            "Epoch 38/50\n",
            "5/5 [==============================] - 0s 9ms/step - loss: 0.5593 - accuracy: 0.7123 - val_loss: 0.5605 - val_accuracy: 0.7568\n",
            "Epoch 39/50\n",
            "5/5 [==============================] - 0s 7ms/step - loss: 0.5974 - accuracy: 0.6918 - val_loss: 0.5419 - val_accuracy: 0.7838\n",
            "Epoch 40/50\n",
            "5/5 [==============================] - 0s 8ms/step - loss: 0.5671 - accuracy: 0.6986 - val_loss: 0.5531 - val_accuracy: 0.7568\n",
            "Epoch 41/50\n",
            "5/5 [==============================] - 0s 7ms/step - loss: 0.5636 - accuracy: 0.7260 - val_loss: 0.5559 - val_accuracy: 0.7568\n",
            "Epoch 42/50\n",
            "5/5 [==============================] - 0s 7ms/step - loss: 0.5481 - accuracy: 0.7192 - val_loss: 0.5572 - val_accuracy: 0.7568\n",
            "Epoch 43/50\n",
            "5/5 [==============================] - 0s 9ms/step - loss: 0.5555 - accuracy: 0.7260 - val_loss: 0.5423 - val_accuracy: 0.7568\n",
            "Epoch 44/50\n",
            "5/5 [==============================] - 0s 8ms/step - loss: 0.5844 - accuracy: 0.7329 - val_loss: 0.5440 - val_accuracy: 0.7568\n",
            "Epoch 45/50\n",
            "5/5 [==============================] - 0s 9ms/step - loss: 0.5700 - accuracy: 0.6849 - val_loss: 0.5450 - val_accuracy: 0.7568\n",
            "Epoch 46/50\n",
            "5/5 [==============================] - 0s 33ms/step - loss: 0.5614 - accuracy: 0.7260 - val_loss: 0.5611 - val_accuracy: 0.7297\n",
            "Epoch 47/50\n",
            "5/5 [==============================] - 0s 36ms/step - loss: 0.5454 - accuracy: 0.7260 - val_loss: 0.5485 - val_accuracy: 0.7568\n",
            "Epoch 48/50\n",
            "5/5 [==============================] - 0s 37ms/step - loss: 0.5875 - accuracy: 0.7123 - val_loss: 0.5545 - val_accuracy: 0.7568\n",
            "Epoch 49/50\n",
            "5/5 [==============================] - 0s 41ms/step - loss: 0.5786 - accuracy: 0.6918 - val_loss: 0.5572 - val_accuracy: 0.7568\n",
            "Epoch 50/50\n",
            "5/5 [==============================] - 0s 16ms/step - loss: 0.5702 - accuracy: 0.7055 - val_loss: 0.5498 - val_accuracy: 0.7568\n"
          ]
        }
      ],
      "source": [
        "history, model = train(data)"
      ]
    },
    {
      "cell_type": "code",
      "execution_count": 24,
      "metadata": {
        "colab": {
          "base_uri": "https://localhost:8080/",
          "height": 295
        },
        "id": "V6sRFV8nIPE3",
        "outputId": "1b247910-4452-426f-fd0d-99ba7409acd0"
      },
      "outputs": [
        {
          "output_type": "display_data",
          "data": {
            "text/plain": [
              "<Figure size 432x288 with 1 Axes>"
            ],
            "image/png": "[encoded data removed]"
          },
          "metadata": {
            "needs_background": "light"
          }
        }
      ],
      "source": [
        "plt.plot(history.history['accuracy'])\n",
        "plt.plot(history.history['val_accuracy'])\n",
        "plt.title('model accuracy')\n",
        "plt.ylabel('accuracy')\n",
        "plt.xlabel('epoch')\n",
        "plt.legend(['train', 'val'], loc='upper left')\n",
        "plt.show()"
      ]
    },
    {
      "cell_type": "code",
      "execution_count": 25,
      "metadata": {
        "colab": {
          "base_uri": "https://localhost:8080/",
          "height": 295
        },
        "id": "WiM0W9DCIvUK",
        "outputId": "6d9e9d60-8f85-47dd-b390-b6181046eae7"
      },
      "outputs": [
        {
          "output_type": "display_data",
          "data": {
            "text/plain": [
              "<Figure size 432x288 with 1 Axes>"
            ],
            "image/png": "[encoded data removed]"
          },
          "metadata": {
            "needs_background": "light"
          }
        }
      ],
      "source": [
        "plt.plot(history.history['loss'])\n",
        "plt.plot(history.history['val_loss'])\n",
        "plt.title('model loss')\n",
        "plt.ylabel('loss')\n",
        "plt.xlabel('epoch')\n",
        "plt.legend(['train', 'val'], loc='upper left')\n",
        "plt.show()"
      ]
    },
    {
      "cell_type": "markdown",
      "metadata": {
        "id": "l_AIyMJYJFgM"
      },
      "source": [
        "Test data"
      ]
    },
    {
      "cell_type": "code",
      "execution_count": 26,
      "metadata": {
        "colab": {
          "base_uri": "https://localhost:8080/"
        },
        "id": "dOTn0hI-JPIO",
        "outputId": "84a5445e-cee9-4c98-9b62-ad82fe59e268"
      },
      "outputs": [
        {
          "output_type": "stream",
          "name": "stdout",
          "text": [
            "    Pclass  Sex   Age  SibSp  Parch    Ticket      Fare     Cabin  Embarked  \\\n",
            "12       1    2  23.0      1      0  0.166667   82.2667  0.166667         2   \n",
            "14       1    2  47.0      1      0  0.083333   61.1750  0.083333         2   \n",
            "24       1    2  48.0      1      3  0.333333  262.3750  0.250000         1   \n",
            "26       1    2  22.0      0      1  0.083333   61.9792  0.083333         1   \n",
            "28       1    1  41.0      0      0  0.083333   30.5000  0.083333         2   \n",
            "\n",
            "    Survived  \n",
            "12         1  \n",
            "14         1  \n",
            "24         1  \n",
            "26         1  \n",
            "28         0  \n"
          ]
        }
      ],
      "source": [
        "#prepare testing data\n",
        "test = convert_sex_to_binary(convert_embarked_to_binary(test))\n",
        "\n",
        "test = term_frequency_count(test, 'Ticket')\n",
        "\n",
        "test = term_frequency_count(test, 'Cabin')\n",
        "\n",
        "test = test.drop(columns=['Name', 'PassengerId'])\n",
        "\n",
        "print(test.head())"
      ]
    },
    {
      "cell_type": "code",
      "execution_count": 27,
      "metadata": {
        "colab": {
          "base_uri": "https://localhost:8080/"
        },
        "id": "7lJ8xUPYJHhM",
        "outputId": "f49135cf-21b2-468b-d94c-323557c2d00b"
      },
      "outputs": [
        {
          "output_type": "stream",
          "name": "stdout",
          "text": [
            "3/3 [==============================] - 0s 3ms/step\n",
            "3/3 [==============================] - 0s 4ms/step - loss: 0.7055 - accuracy: 0.5517\n",
            "Loss =  0.7054560780525208\n",
            "Accuracy =  0.5517241358757019\n"
          ]
        }
      ],
      "source": [
        "#testing data\n",
        "\n",
        "final_test(model, test)"
      ]
    },
    {
      "cell_type": "markdown",
      "source": [
        "SVM"
      ],
      "metadata": {
        "id": "SY-3iEdBdC-L"
      }
    },
    {
      "cell_type": "code",
      "source": [
        "clf = svm.SVC(kernel='poly', gamma = 3)\n",
        "\n",
        "x_train, y_train = data[['Pclass','Sex', 'Age', 'SibSp', 'Ticket', 'Fare', 'Cabin', 'Embarked']], data[['Survived']]\n",
        "\n",
        "model = build_model(x_train)\n",
        "\n",
        "history = clf.fit(x_train,y_train)\n",
        "x_test, y_test = data[['Pclass','Sex', 'Age', 'SibSp', 'Ticket', 'Fare', 'Cabin', 'Embarked']], data[['Survived']]\n",
        "\n",
        "history = clf.predict(x_test)\n",
        "\n",
        "print(history)\n",
        "\n",
        "loss_and_metrics = model.predict(x_test)\n",
        "#print('Degree:', deg)\n",
        "print(loss_and_metrics)\n",
        "#print('Loss = ',loss_and_metrics[0])\n",
        "#print('Accuracy = ',loss_and_metrics[1])\n"
      ],
      "metadata": {
        "id": "T5zqohOJgy2f"
      },
      "execution_count": null,
      "outputs": []
    },
    {
      "cell_type": "code",
      "source": [
        "  clf = svm.SVC(kernel='linear')\n",
        "\n",
        "  x_train, y_train = data[['Pclass','Sex', 'Age', 'SibSp', 'Ticket', 'Fare', 'Cabin', 'Embarked']], data[['Survived']]\n",
        "\n",
        "  model = build_model(x_train)\n",
        "\n",
        "  history = clf.fit(x_train,y_train)\n",
        "  \n",
        "  print(clf)\n",
        "\n",
        "  x_test, y_test = data[['Pclass','Sex', 'Age', 'SibSp', 'Ticket', 'Fare', 'Cabin', 'Embarked']], data[['Survived']]\n",
        "\n",
        "  model.predict(x_test, verbose = 1)\n",
        "\n",
        "  loss_and_metrics = model.evaluate(x_test, y_test)\n",
        "  print('Loss = ',loss_and_metrics[0])\n",
        "  print('Accuracy = ',loss_and_metrics[1])\n"
      ],
      "metadata": {
        "colab": {
          "base_uri": "https://localhost:8080/"
        },
        "id": "wmPai4dxdDyX",
        "outputId": "ce013d9c-0119-4575-f378-f3e1ac89875f"
      },
      "execution_count": 40,
      "outputs": [
        {
          "output_type": "stream",
          "name": "stderr",
          "text": [
            "/usr/local/lib/python3.8/dist-packages/sklearn/utils/validation.py:993: DataConversionWarning: A column-vector y was passed when a 1d array was expected. Please change the shape of y to (n_samples, ), for example using ravel().\n",
            "  y = column_or_1d(y, warn=True)\n"
          ]
        },
        {
          "output_type": "stream",
          "name": "stdout",
          "text": [
            "SVC(kernel='linear')\n",
            "6/6 [==============================] - 0s 2ms/step\n",
            "6/6 [==============================] - 0s 2ms/step - loss: 0.6563 - accuracy: 0.6721\n",
            "Loss =  0.6562677621841431\n",
            "Accuracy =  0.6721311211585999\n"
          ]
        }
      ]
    },
    {
      "cell_type": "code",
      "source": [],
      "metadata": {
        "id": "wRi7ny7SgeVh"
      },
      "execution_count": null,
      "outputs": []
    }
  ],
  "metadata": {
    "colab": {
      "provenance": []
    },
    "kernelspec": {
      "display_name": "Python 3",
      "name": "python3"
    },
    "language_info": {
      "name": "python"
    }
  },
  "nbformat": 4,
  "nbformat_minor": 0
}